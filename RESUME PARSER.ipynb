{
 "cells": [
  {
   "cell_type": "markdown",
   "id": "21f15441",
   "metadata": {},
   "source": [
    "## Important Modules And Packages"
   ]
  },
  {
   "cell_type": "code",
   "execution_count": null,
   "id": "be6a7cca",
   "metadata": {},
   "outputs": [],
   "source": [
    "import re\n",
    "import pandas as pd\n",
    "import csv"
   ]
  },
  {
   "cell_type": "markdown",
   "id": "3bb2bf21",
   "metadata": {},
   "source": [
    "## List of Sample Skills in Resume"
   ]
  },
  {
   "cell_type": "code",
   "execution_count": null,
   "id": "1d99dee9",
   "metadata": {},
   "outputs": [],
   "source": [
    "skills_set = [\n",
    "    \"Python\",\n",
    "    \"JavaScript\",\n",
    "    \"React\",\n",
    "    \"Node.js\",\n",
    "    \"HTML5\",\n",
    "    \"CSS3\",\n",
    "    \"SQL\",\n",
    "    \"Git\",\n",
    "    \"GitHub\",\n",
    "    \"Linux\",\n",
    "    \"Agile\",\n",
    "    \"Scrum\",\n",
    "    \"Docker\",\n",
    "    \"Jenkins\",\n",
    "    \"RESTful API\",\n",
    "    \"GraphQL\",\n",
    "    \"AWS\",\n",
    "    \"Azure\",\n",
    "    \"Data Analysis\",\n",
    "    \"Machine Learning\",\n",
    "    \"Problem Solving\",\n",
    "    \"Critical Thinking\",\n",
    "    \"Communication Skills\",\n",
    "    \"Teamwork\",\n",
    "    \"Adaptability\",\n",
    "    \"Time Management\",\n",
    "    \"Creativity\",\n",
    "    \"Analytical Skills\",\n",
    "    \"Attention to Detail\",\n",
    "    \"Leadership\",\n",
    "    \"Project Management\",\n",
    "    \"Troubleshooting\",\n",
    "    \"Technical Writing\",\n",
    "    \"Microsoft Office\",\n",
    "    \"Excel\",\n",
    "    \"PowerPoint\",\n",
    "    \"Word\",\n",
    "    \"UX/UI Design\",\n",
    "    \"Cybersecurity\",\n",
    "    \"Network Security\",\n",
    "    \"DevOps\",\n",
    "    \"CI/CD\",\n",
    "    \"Java\",\n",
    "    \"Angular\",\n",
    "    \"Vue.js\",\n",
    "    \"Bootstrap\",\n",
    "    \"Sass\",\n",
    "    \"Redux\",\n",
    "    \"TensorFlow\",\n",
    "    \"PyTorch\",\n",
    "    \"Computer Vision\",\n",
    "    \"Big Data\",\n",
    "    \"Hadoop\",\n",
    "    \"Spark\",\n",
    "    \"Kotlin\",\n",
    "    \"Swift\",\n",
    "    \"Android\",\n",
    "    \"iOS\",\n",
    "    \"Web Development\",\n",
    "    \"Design Thinking\"\n",
    "]"
   ]
  },
  {
   "cell_type": "markdown",
   "id": "219571b1",
   "metadata": {},
   "source": [
    "## Function to extract Text from Resume"
   ]
  },
  {
   "cell_type": "code",
   "execution_count": null,
   "id": "1cf884ab",
   "metadata": {},
   "outputs": [],
   "source": [
    "from pdfminer.high_level import extract_text\n",
    "\n",
    "def extractText(pdf_path):\n",
    "    return extract_text(pdf_path)"
   ]
  },
  {
   "cell_type": "markdown",
   "id": "7196fd35",
   "metadata": {},
   "source": [
    "## Function to extract Contact information from Resume "
   ]
  },
  {
   "cell_type": "code",
   "execution_count": null,
   "id": "6b82f364",
   "metadata": {},
   "outputs": [],
   "source": [
    "def contactResume(txt):\n",
    "    number = None\n",
    "    pattern = r\"\\b(?:\\+?\\d{1,3}[-.\\s]?)?\\(?\\d{3}\\)?[-.\\s]?\\d{3}[-.\\s]?\\d{4}\\b\"\n",
    "    match = re.search(pattern, txt)\n",
    "    if match:\n",
    "        number = match.group()\n",
    "        \n",
    "    return number"
   ]
  },
  {
   "cell_type": "code",
   "execution_count": null,
   "id": "ae940661",
   "metadata": {},
   "outputs": [],
   "source": [
    "pattern = [{\"ORTH\" : \"+\"}, {\"ORTH\" : \"91\"}, {\"shape\" : \"dddddddddd\"}]"
   ]
  },
  {
   "cell_type": "markdown",
   "id": "d1d482a8",
   "metadata": {},
   "source": [
    "## Function to extract E-mail address from the Resume "
   ]
  },
  {
   "cell_type": "code",
   "execution_count": null,
   "id": "92ad3f3d",
   "metadata": {},
   "outputs": [],
   "source": [
    "def emailResume(txt):\n",
    "    email = None\n",
    "    pattern = r\"\\b[A-Za-z0-9._%+-]+@[A-Za-z0-9.-]+\\.[A-Za-z]{2,}\\b\"\n",
    "    match = re.search(pattern, txt)\n",
    "    if match:\n",
    "        email = match.group()\n",
    "        \n",
    "    return email"
   ]
  },
  {
   "cell_type": "markdown",
   "id": "03a935cc",
   "metadata": {},
   "source": [
    "## Function To extract Skills from the Resume"
   ]
  },
  {
   "cell_type": "code",
   "execution_count": null,
   "id": "239c4b79",
   "metadata": {},
   "outputs": [],
   "source": [
    "def skillsResume(text, skills_list):\n",
    "    skills = []\n",
    "\n",
    "    for skill in skills_list:\n",
    "        pattern = re.compile(rf'\\b{re.escape(skill)}\\b', re.IGNORECASE)\n",
    "        match = re.search(pattern, text)\n",
    "        if match:\n",
    "            skills.append(skill)\n",
    "\n",
    "    return skills"
   ]
  },
  {
   "cell_type": "markdown",
   "id": "2758c012",
   "metadata": {},
   "source": [
    "## Function to extract Education from Resume "
   ]
  },
  {
   "cell_type": "code",
   "execution_count": null,
   "id": "f1a5301f",
   "metadata": {},
   "outputs": [],
   "source": [
    "def educationResume(txt):\n",
    "    edu = set()\n",
    "    pattern = r\"(?i)\\b(?:B(?:achelor)?\\.\\w+|M(?:aster)?\\.\\w+|Ph\\.D\\.\\w+|Diploma|Associate(?:'s)?|High\\s?School(?:\\s?Diploma)?|Secondary(?:\\s?School)?|Primary(?:\\s?School)?|Elementary(?:\\s?School)?|GED|BE|BA|BBA|BCA)\\b\"\n",
    "    matches = re.findall(pattern, txt)\n",
    "    for match in matches:\n",
    "        edu.add(match.strip())\n",
    "        \n",
    "    return list(edu)"
   ]
  },
  {
   "cell_type": "markdown",
   "id": "879b0833",
   "metadata": {},
   "source": [
    "## Function to extract Name from Resume "
   ]
  },
  {
   "cell_type": "code",
   "execution_count": null,
   "id": "2f16d0cb",
   "metadata": {},
   "outputs": [],
   "source": [
    "def nameResume(txt):\n",
    "    name = None\n",
    "    pattern = re.compile(r\"\\b([A-Z][a-zA-Z'-]*)\\s([A-Z][a-zA-Z'-]*)\\b\")\n",
    "    match = pattern.search(txt)\n",
    "    \n",
    "    if match:\n",
    "        first_name = match.group(1)\n",
    "        last_name = match.group(2)\n",
    "        return f\"{first_name} {last_name}\"\n",
    "    else:\n",
    "        return None"
   ]
  },
  {
   "cell_type": "markdown",
   "id": "42ebd5fb",
   "metadata": {},
   "source": [
    "# FINAL RESUME PARSER "
   ]
  },
  {
   "cell_type": "code",
   "execution_count": null,
   "id": "0a5eea9f",
   "metadata": {
    "scrolled": false
   },
   "outputs": [],
   "source": [
    "if __name__ == '__main__':\n",
    "    resume = extractText('CV_2023101320445642.pdf')\n",
    "#     print(resume)\n",
    "\n",
    "    name = nameResume(resume)\n",
    "    if name:\n",
    "        print(\"Name: \", name)\n",
    "    else:\n",
    "        print(\"Name not found\")\n",
    "        \n",
    "    contact = contactResume(resume)\n",
    "    if contact:\n",
    "        print(\"Contact Number: \", contact)\n",
    "    else:\n",
    "        print(\"Contact Number Not Found\")\n",
    "        \n",
    "    email = emailResume(resume)\n",
    "    if email:\n",
    "        print(\"Email: \", email)\n",
    "    else:\n",
    "        print(\"Email not found\")\n",
    "\n",
    "    education = educationResume(resume)\n",
    "    if education:\n",
    "        print(\"Education: \", education)\n",
    "    else:\n",
    "        print(\"No education information found\")\n",
    "        \n",
    "    skills = skillsResume(resume, skills_set)\n",
    "    if skills:\n",
    "        print(\"Skills: \", skills)\n",
    "    else:\n",
    "        print(\"No Skills Found\")"
   ]
  },
  {
   "cell_type": "code",
   "execution_count": null,
   "id": "fbdfd58f",
   "metadata": {},
   "outputs": [],
   "source": []
  }
 ],
 "metadata": {
  "kernelspec": {
   "display_name": "Python 3 (ipykernel)",
   "language": "python",
   "name": "python3"
  },
  "language_info": {
   "codemirror_mode": {
    "name": "ipython",
    "version": 3
   },
   "file_extension": ".py",
   "mimetype": "text/x-python",
   "name": "python",
   "nbconvert_exporter": "python",
   "pygments_lexer": "ipython3",
   "version": "3.10.9"
  }
 },
 "nbformat": 4,
 "nbformat_minor": 5
}
